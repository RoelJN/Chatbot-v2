{
 "cells": [
  {
   "cell_type": "code",
   "execution_count": 1,
   "id": "9b9d7ffb",
   "metadata": {},
   "outputs": [
    {
     "name": "stdout",
     "output_type": "stream",
     "text": [
      "Defaulting to user installation because normal site-packages is not writeable\n",
      "Requirement already satisfied: nltk in /home/lcur0982/.local/lib/python3.9/site-packages (3.7)\n",
      "Requirement already satisfied: tqdm in /home/lcur0982/.local/lib/python3.9/site-packages (from nltk) (4.64.1)\n",
      "Requirement already satisfied: joblib in /sara/eb/AVX512/Debian10/EB_production/2021/software/Python/3.9.5-GCCcore-10.3.0/lib/python3.9/site-packages (from nltk) (1.0.1)\n",
      "Requirement already satisfied: regex>=2021.8.3 in /home/lcur0982/.local/lib/python3.9/site-packages (from nltk) (2022.10.31)\n",
      "Requirement already satisfied: click in /sara/eb/AVX512/Debian10/EB_production/2021/software/Python/3.9.5-GCCcore-10.3.0/lib/python3.9/site-packages (from nltk) (7.1.2)\n",
      "\u001b[33mWARNING: You are using pip version 21.1.1; however, version 22.3.1 is available.\n",
      "You should consider upgrading via the '/sw/arch/Debian10/EB_production/2021/software/Python/3.9.5-GCCcore-10.3.0/bin/python3.9 -m pip install --upgrade pip' command.\u001b[0m\n"
     ]
    }
   ],
   "source": [
    "!pip install nltk\n",
    "\n",
    "import nltk\n",
    "\n",
    "from nltk.chat.util import Chat, reflections"
   ]
  },
  {
   "cell_type": "code",
   "execution_count": 2,
   "id": "d501c565",
   "metadata": {},
   "outputs": [],
   "source": [
    "reflections = {\n",
    "  \"i am\"       : \"you are\",\n",
    "  \"i was\"      : \"you were\",\n",
    "  \"i\"          : \"you\",\n",
    "  \"i'm\"        : \"you are\",\n",
    "  \"i'd\"        : \"you would\",\n",
    "  \"i've\"       : \"you have\",\n",
    "  \"i'll\"       : \"you will\",\n",
    "  \"my\"         : \"your\",\n",
    "  \"you are\"    : \"I am\",\n",
    "  \"you were\"   : \"I was\",\n",
    "  \"you've\"     : \"I have\",\n",
    "  \"you'll\"     : \"I will\",\n",
    "  \"your\"       : \"my\",\n",
    "  \"yours\"      : \"mine\",\n",
    "  \"you\"        : \"me\",\n",
    "  \"me\"         : \"you\"\n",
    "}"
   ]
  },
  {
   "cell_type": "code",
   "execution_count": null,
   "id": "307ff6f4",
   "metadata": {},
   "outputs": [],
   "source": [
    "pairs = [\n",
    "    [\n",
    "        r\"my name is (.*)\",\n",
    "        [\"Hello %1, How are you today ?\",]\n",
    "    ],\n",
    "    [\n",
    "        r\"hi|hey|hello\",\n",
    "        [\"Hello\", \"Hey there\",]\n",
    "    ], \n",
    "    [\n",
    "        r\"what is your name ?\",\n",
    "        [\"I am Eddie your virtual co-driver\",]\n",
    "    ],\n",
    "    [\n",
    "        r\"how are you ?\",\n",
    "        [\"I'm doing good How about You ?\",]\n",
    "    ],\n",
    "    [\n",
    "        r\"sorry (.*)\",\n",
    "        [\"Its alright\",\"Its OK, never mind\",]\n",
    "    ],\n",
    "    [\n",
    "        r\"I am fine\",\n",
    "        [\"Great to hear that, How can I help you?\",]\n",
    "    ],\n",
    "    [\n",
    "        r\"i'm (.*) doing good\",\n",
    "        [\"Nice to hear that\",\"How can I help you?:)\",]\n",
    "    ],\n",
    "    [\n",
    "        r\"(.*) age?\",\n",
    "        [\"I'm a computer program dude Seriously you are asking me this?\",]\n",
    "    ],\n",
    "    [\n",
    "        r\"what (.*) want ?\",\n",
    "        [\"Make me an offer I can't refuse\",]\n",
    "    ],\n",
    "    [\n",
    "        r\"(.*) created ?\",\n",
    "        [\"Roeland created me using Python's NLTK library \",\"I was created to help truck drivers and make their lives easier\",]\n",
    "    ],\n",
    "    [\n",
    "        r\"(.*) (location|city) ?\",\n",
    "        ['Rotterdam, The Netherlands',]\n",
    "    ],\n",
    "    [\n",
    "        r\"how is the weather in (.*)?\",\n",
    "        [\"Weather in %1 is cold and frosty so be carefull on the road\",\"Its very hot in %1 don't forget to use your airco\",\"We dont have to go to %1 today but the weather there is pretty nice\"]\n",
    "    ],\n",
    "    [\n",
    "        r\"i work in (.*)?\",\n",
    "        [\"%1 is an Amazing company, I have heard about it.\",]\n",
    "    ],\n",
    "    [\n",
    "        r\"(.*)raining in (.*)\",\n",
    "        [\"No rain since last week here in %2\",\"Its raining a lot here in %2 the roads might be slippery\"]\n",
    "    ],\n",
    "    [\n",
    "        r\"how (.*) health(.*)\",\n",
    "        [\"I'm a computer program, so I'm always healthy\",]\n",
    "    ],\n",
    "    [\n",
    "        r\"(.*) (sports|game) ?\",\n",
    "        [\"I'm a very big fan of Formula one\",]\n",
    "    ],\n",
    "    [\n",
    "        r\"who (.*) sportsperson ?\",\n",
    "        [\"Max Verstappen\",\"Messy\",\"Fernando Alonso\"]\n",
    "    ],\n",
    "    [\n",
    "        r\"who (.*) (Driver|race driver)?\",\n",
    "        [\"Max Verstappen\"]\n",
    "    ],\n",
    "    [\n",
    "        r\"quit\",\n",
    "        [\"Bye I'll see you tomorrow when we drive to Arnhem\",\"It was nice talking to you. See you soon :)\"]\n",
    "    ],\n",
    "]"
   ]
  },
  {
   "cell_type": "code",
   "execution_count": null,
   "id": "0f9bc394",
   "metadata": {},
   "outputs": [
    {
     "name": "stdout",
     "output_type": "stream",
     "text": [
      "Hi, I am Eddie, I am a chatbot made by Roeland\n",
      ">how is teh weather in rotterdam\n",
      "None\n",
      ">how is the weather in dover\n",
      "None\n",
      ">who created you\n",
      "I was created to help truck drivers and make their lives easier\n",
      ">how is the weather dover\n",
      "None\n",
      ">i work in transport\n",
      "transport is an Amazing company, I have heard about it. But they are in huge loss these days.\n"
     ]
    }
   ],
   "source": [
    "def chat():\n",
    "    print(\"Hi, I am Eddie, I am a chatbot made by Roeland\")\n",
    "    chat = Chat(pairs, reflections)\n",
    "    chat.converse()\n",
    "#initiate the conversation\n",
    "if __name__ == \"__main__\":\n",
    "    chat()"
   ]
  },
  {
   "cell_type": "code",
   "execution_count": null,
   "id": "2a0f9936",
   "metadata": {},
   "outputs": [],
   "source": []
  }
 ],
 "metadata": {
  "kernelspec": {
   "display_name": "Python 3 (ipykernel)",
   "language": "python",
   "name": "python3"
  },
  "language_info": {
   "codemirror_mode": {
    "name": "ipython",
    "version": 3
   },
   "file_extension": ".py",
   "mimetype": "text/x-python",
   "name": "python",
   "nbconvert_exporter": "python",
   "pygments_lexer": "ipython3",
   "version": "3.9.5"
  }
 },
 "nbformat": 4,
 "nbformat_minor": 5
}
